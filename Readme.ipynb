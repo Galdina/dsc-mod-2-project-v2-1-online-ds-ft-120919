{
 "cells": [
  {
   "cell_type": "markdown",
   "metadata": {},
   "source": [
    "# Module 2 Final Project\n",
    "\n",
    "_Note: The housing shortage has had a bad influence on ..._\n",
    "\n",
    "![](img/csm_data-science-ansatz_a40f417bb6.jpg)\n",
    "\n",
    "Predicting the sale price of properties is an important and challenging problem. This project provides details of our attempt to predict house prices using various regression methods. \\\n",
    "I will be using the House Sales in King County, USA dataset. The dataset contains information about the number of Bedrooms, Square Footage, Grade, Sale Price and related information for 21,597 houses for sales in 2014 and 2015. \\\n",
    "Main question for this project: “Is it possible to predict the sale price of a house from information about that house such as the size, number of bedrooms, condition etc?” \n",
    "\n",
    "I used OSEMN framework to cover every step of the data science project lifecycle from begining to end.\n",
    "All information about me and [here](00_student.ipynb)\n",
    "## Obtain\n",
    "Before I process or change the data, let’s just get an idea of what we are dealing with. The dataset can be found in the file `\"kc_house_data.csv\"`. Based on information from this file, I created a King County map.\n",
    "![](img/map1.jpg)\n",
    "[Here](01_Obtain.ipynb) I put all facts, what I should know before work.\n",
    "\n",
    "## Scrubbing\n",
    "Datasets in the real world are never perfect. There will always be missing values and outliers that skew the dataset, affecting the accuracy of our predictive model. That’s why it is always a good idea to clean up the data before you start building your model.\n",
    "Scrubbing included:\n",
    "* Changing data types (convert columns type to types)\n",
    "* Filling in any missing values (NaN/null, other interesting solutions for the unknown values)\n",
    "* Making decisions on outliers (are there enough 33 bathrooms? How many millionaire houses we have? how many football fields are located in the backyard?)\n",
    "\n",
    "[This notebook](02_Scrubbing.ipynb) include all my thought about scrubbing data and decisions on outliers. \n",
    "\n",
    "## Explore\n",
    "\n",
    "## Conclusion\n",
    "## Further work"
   ]
  },
  {
   "cell_type": "markdown",
   "metadata": {},
   "source": [
    "## Data Science Process"
   ]
  },
  {
   "cell_type": "markdown",
   "metadata": {},
   "source": [
    "First of all"
   ]
  },
  {
   "cell_type": "markdown",
   "metadata": {},
   "source": [
    "## Conclusion"
   ]
  },
  {
   "cell_type": "markdown",
   "metadata": {},
   "source": [
    "## Further work"
   ]
  }
 ],
 "metadata": {
  "kernelspec": {
   "display_name": "Python 3",
   "language": "python",
   "name": "python3"
  },
  "language_info": {
   "codemirror_mode": {
    "name": "ipython",
    "version": 3
   },
   "file_extension": ".py",
   "mimetype": "text/x-python",
   "name": "python",
   "nbconvert_exporter": "python",
   "pygments_lexer": "ipython3",
   "version": "3.7.4"
  }
 },
 "nbformat": 4,
 "nbformat_minor": 2
}
